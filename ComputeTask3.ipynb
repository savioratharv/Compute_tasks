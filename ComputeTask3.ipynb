{
  "nbformat": 4,
  "nbformat_minor": 0,
  "metadata": {
    "colab": {
      "provenance": [],
      "authorship_tag": "ABX9TyMBTMRb4SsBfOuaXyFhSZAz",
      "include_colab_link": true
    },
    "kernelspec": {
      "name": "python3",
      "display_name": "Python 3"
    },
    "language_info": {
      "name": "python"
    }
  },
  "cells": [
    {
      "cell_type": "markdown",
      "metadata": {
        "id": "view-in-github",
        "colab_type": "text"
      },
      "source": [
        "<a href=\"https://colab.research.google.com/github/savioratharv/Compute_tasks/blob/main/ComputeTask3.ipynb\" target=\"_parent\"><img src=\"https://colab.research.google.com/assets/colab-badge.svg\" alt=\"Open In Colab\"/></a>"
      ]
    },
    {
      "cell_type": "code",
      "execution_count": 124,
      "metadata": {
        "id": "7viLI4WGwVmN"
      },
      "outputs": [],
      "source": [
        "import pandas as pd\n",
        "import numpy as np\n",
        "import matplotlib.pyplot as plt\n",
        "import seaborn as sns"
      ]
    },
    {
      "cell_type": "code",
      "source": [
        "dataset=pd.read_csv('/content/haberman.csv')\n",
        "dataset.columns=['patient_age','operation_year','positive_auxillary_nodes','survival_status']\n",
        "dataset"
      ],
      "metadata": {
        "colab": {
          "base_uri": "https://localhost:8080/",
          "height": 424
        },
        "id": "xcfopdjzwkdb",
        "outputId": "80dceda8-7296-4814-9549-7173746533ab"
      },
      "execution_count": 125,
      "outputs": [
        {
          "output_type": "execute_result",
          "data": {
            "text/plain": [
              "     patient_age  operation_year  positive_auxillary_nodes  survival_status\n",
              "0             30              62                         3                1\n",
              "1             30              65                         0                1\n",
              "2             31              59                         2                1\n",
              "3             31              65                         4                1\n",
              "4             33              58                        10                1\n",
              "..           ...             ...                       ...              ...\n",
              "300           75              62                         1                1\n",
              "301           76              67                         0                1\n",
              "302           77              65                         3                1\n",
              "303           78              65                         1                2\n",
              "304           83              58                         2                2\n",
              "\n",
              "[305 rows x 4 columns]"
            ],
            "text/html": [
              "\n",
              "  <div id=\"df-62862a59-a06c-46b4-9cc1-c5191c45877f\">\n",
              "    <div class=\"colab-df-container\">\n",
              "      <div>\n",
              "<style scoped>\n",
              "    .dataframe tbody tr th:only-of-type {\n",
              "        vertical-align: middle;\n",
              "    }\n",
              "\n",
              "    .dataframe tbody tr th {\n",
              "        vertical-align: top;\n",
              "    }\n",
              "\n",
              "    .dataframe thead th {\n",
              "        text-align: right;\n",
              "    }\n",
              "</style>\n",
              "<table border=\"1\" class=\"dataframe\">\n",
              "  <thead>\n",
              "    <tr style=\"text-align: right;\">\n",
              "      <th></th>\n",
              "      <th>patient_age</th>\n",
              "      <th>operation_year</th>\n",
              "      <th>positive_auxillary_nodes</th>\n",
              "      <th>survival_status</th>\n",
              "    </tr>\n",
              "  </thead>\n",
              "  <tbody>\n",
              "    <tr>\n",
              "      <th>0</th>\n",
              "      <td>30</td>\n",
              "      <td>62</td>\n",
              "      <td>3</td>\n",
              "      <td>1</td>\n",
              "    </tr>\n",
              "    <tr>\n",
              "      <th>1</th>\n",
              "      <td>30</td>\n",
              "      <td>65</td>\n",
              "      <td>0</td>\n",
              "      <td>1</td>\n",
              "    </tr>\n",
              "    <tr>\n",
              "      <th>2</th>\n",
              "      <td>31</td>\n",
              "      <td>59</td>\n",
              "      <td>2</td>\n",
              "      <td>1</td>\n",
              "    </tr>\n",
              "    <tr>\n",
              "      <th>3</th>\n",
              "      <td>31</td>\n",
              "      <td>65</td>\n",
              "      <td>4</td>\n",
              "      <td>1</td>\n",
              "    </tr>\n",
              "    <tr>\n",
              "      <th>4</th>\n",
              "      <td>33</td>\n",
              "      <td>58</td>\n",
              "      <td>10</td>\n",
              "      <td>1</td>\n",
              "    </tr>\n",
              "    <tr>\n",
              "      <th>...</th>\n",
              "      <td>...</td>\n",
              "      <td>...</td>\n",
              "      <td>...</td>\n",
              "      <td>...</td>\n",
              "    </tr>\n",
              "    <tr>\n",
              "      <th>300</th>\n",
              "      <td>75</td>\n",
              "      <td>62</td>\n",
              "      <td>1</td>\n",
              "      <td>1</td>\n",
              "    </tr>\n",
              "    <tr>\n",
              "      <th>301</th>\n",
              "      <td>76</td>\n",
              "      <td>67</td>\n",
              "      <td>0</td>\n",
              "      <td>1</td>\n",
              "    </tr>\n",
              "    <tr>\n",
              "      <th>302</th>\n",
              "      <td>77</td>\n",
              "      <td>65</td>\n",
              "      <td>3</td>\n",
              "      <td>1</td>\n",
              "    </tr>\n",
              "    <tr>\n",
              "      <th>303</th>\n",
              "      <td>78</td>\n",
              "      <td>65</td>\n",
              "      <td>1</td>\n",
              "      <td>2</td>\n",
              "    </tr>\n",
              "    <tr>\n",
              "      <th>304</th>\n",
              "      <td>83</td>\n",
              "      <td>58</td>\n",
              "      <td>2</td>\n",
              "      <td>2</td>\n",
              "    </tr>\n",
              "  </tbody>\n",
              "</table>\n",
              "<p>305 rows × 4 columns</p>\n",
              "</div>\n",
              "      <button class=\"colab-df-convert\" onclick=\"convertToInteractive('df-62862a59-a06c-46b4-9cc1-c5191c45877f')\"\n",
              "              title=\"Convert this dataframe to an interactive table.\"\n",
              "              style=\"display:none;\">\n",
              "        \n",
              "  <svg xmlns=\"http://www.w3.org/2000/svg\" height=\"24px\"viewBox=\"0 0 24 24\"\n",
              "       width=\"24px\">\n",
              "    <path d=\"M0 0h24v24H0V0z\" fill=\"none\"/>\n",
              "    <path d=\"M18.56 5.44l.94 2.06.94-2.06 2.06-.94-2.06-.94-.94-2.06-.94 2.06-2.06.94zm-11 1L8.5 8.5l.94-2.06 2.06-.94-2.06-.94L8.5 2.5l-.94 2.06-2.06.94zm10 10l.94 2.06.94-2.06 2.06-.94-2.06-.94-.94-2.06-.94 2.06-2.06.94z\"/><path d=\"M17.41 7.96l-1.37-1.37c-.4-.4-.92-.59-1.43-.59-.52 0-1.04.2-1.43.59L10.3 9.45l-7.72 7.72c-.78.78-.78 2.05 0 2.83L4 21.41c.39.39.9.59 1.41.59.51 0 1.02-.2 1.41-.59l7.78-7.78 2.81-2.81c.8-.78.8-2.07 0-2.86zM5.41 20L4 18.59l7.72-7.72 1.47 1.35L5.41 20z\"/>\n",
              "  </svg>\n",
              "      </button>\n",
              "      \n",
              "  <style>\n",
              "    .colab-df-container {\n",
              "      display:flex;\n",
              "      flex-wrap:wrap;\n",
              "      gap: 12px;\n",
              "    }\n",
              "\n",
              "    .colab-df-convert {\n",
              "      background-color: #E8F0FE;\n",
              "      border: none;\n",
              "      border-radius: 50%;\n",
              "      cursor: pointer;\n",
              "      display: none;\n",
              "      fill: #1967D2;\n",
              "      height: 32px;\n",
              "      padding: 0 0 0 0;\n",
              "      width: 32px;\n",
              "    }\n",
              "\n",
              "    .colab-df-convert:hover {\n",
              "      background-color: #E2EBFA;\n",
              "      box-shadow: 0px 1px 2px rgba(60, 64, 67, 0.3), 0px 1px 3px 1px rgba(60, 64, 67, 0.15);\n",
              "      fill: #174EA6;\n",
              "    }\n",
              "\n",
              "    [theme=dark] .colab-df-convert {\n",
              "      background-color: #3B4455;\n",
              "      fill: #D2E3FC;\n",
              "    }\n",
              "\n",
              "    [theme=dark] .colab-df-convert:hover {\n",
              "      background-color: #434B5C;\n",
              "      box-shadow: 0px 1px 3px 1px rgba(0, 0, 0, 0.15);\n",
              "      filter: drop-shadow(0px 1px 2px rgba(0, 0, 0, 0.3));\n",
              "      fill: #FFFFFF;\n",
              "    }\n",
              "  </style>\n",
              "\n",
              "      <script>\n",
              "        const buttonEl =\n",
              "          document.querySelector('#df-62862a59-a06c-46b4-9cc1-c5191c45877f button.colab-df-convert');\n",
              "        buttonEl.style.display =\n",
              "          google.colab.kernel.accessAllowed ? 'block' : 'none';\n",
              "\n",
              "        async function convertToInteractive(key) {\n",
              "          const element = document.querySelector('#df-62862a59-a06c-46b4-9cc1-c5191c45877f');\n",
              "          const dataTable =\n",
              "            await google.colab.kernel.invokeFunction('convertToInteractive',\n",
              "                                                     [key], {});\n",
              "          if (!dataTable) return;\n",
              "\n",
              "          const docLinkHtml = 'Like what you see? Visit the ' +\n",
              "            '<a target=\"_blank\" href=https://colab.research.google.com/notebooks/data_table.ipynb>data table notebook</a>'\n",
              "            + ' to learn more about interactive tables.';\n",
              "          element.innerHTML = '';\n",
              "          dataTable['output_type'] = 'display_data';\n",
              "          await google.colab.output.renderOutput(dataTable, element);\n",
              "          const docLink = document.createElement('div');\n",
              "          docLink.innerHTML = docLinkHtml;\n",
              "          element.appendChild(docLink);\n",
              "        }\n",
              "      </script>\n",
              "    </div>\n",
              "  </div>\n",
              "  "
            ]
          },
          "metadata": {},
          "execution_count": 125
        }
      ]
    },
    {
      "cell_type": "code",
      "source": [
        "dataset.isnull().sum()"
      ],
      "metadata": {
        "colab": {
          "base_uri": "https://localhost:8080/"
        },
        "id": "oMaZl2h3xJpr",
        "outputId": "813e8726-fc09-4250-9b0a-32def0d07767"
      },
      "execution_count": 126,
      "outputs": [
        {
          "output_type": "execute_result",
          "data": {
            "text/plain": [
              "patient_age                 0\n",
              "operation_year              0\n",
              "positive_auxillary_nodes    0\n",
              "survival_status             0\n",
              "dtype: int64"
            ]
          },
          "metadata": {},
          "execution_count": 126
        }
      ]
    },
    {
      "cell_type": "code",
      "source": [
        "corr=dataset.corr()\n",
        "sns.heatmap(corr)"
      ],
      "metadata": {
        "colab": {
          "base_uri": "https://localhost:8080/",
          "height": 399
        },
        "id": "lgHvXrgHxPun",
        "outputId": "19191478-6a0f-4942-db48-25e7981d1de6"
      },
      "execution_count": 127,
      "outputs": [
        {
          "output_type": "execute_result",
          "data": {
            "text/plain": [
              "<matplotlib.axes._subplots.AxesSubplot at 0x7f3bebc32a90>"
            ]
          },
          "metadata": {},
          "execution_count": 127
        },
        {
          "output_type": "display_data",
          "data": {
            "text/plain": [
              "<Figure size 432x288 with 2 Axes>"
            ],
            "image/png": "[encoded data removed]"
          },
          "metadata": {
            "needs_background": "light"
          }
        }
      ]
    },
    {
      "cell_type": "markdown",
      "source": [
        "This graph tells us how patient age and positive auxillary nodes directly correlate to the survival status of a person"
      ],
      "metadata": {
        "id": "YmbAp84_ZJft"
      }
    },
    {
      "cell_type": "code",
      "source": [
        "plt.figure(figsize=(30,18))\n",
        "sns.barplot(x='patient_age',y='positive_auxillary_nodes',hue='survival_status',data=dataset,ci=None,palette='mako')"
      ],
      "metadata": {
        "colab": {
          "base_uri": "https://localhost:8080/",
          "height": 977
        },
        "id": "_2N-9UHJx1qf",
        "outputId": "1337e10c-b4ab-4291-a00a-aa05174c7118"
      },
      "execution_count": 128,
      "outputs": [
        {
          "output_type": "execute_result",
          "data": {
            "text/plain": [
              "<matplotlib.axes._subplots.AxesSubplot at 0x7f3bebc15c90>"
            ]
          },
          "metadata": {},
          "execution_count": 128
        },
        {
          "output_type": "display_data",
          "data": {
            "text/plain": [
              "<Figure size 2160x1296 with 1 Axes>"
            ],
            "image/png": "[encoded data removed]"
          },
          "metadata": {
            "needs_background": "light"
          }
        }
      ]
    },
    {
      "cell_type": "markdown",
      "source": [
        "This graph tells number of people who survived or didn't survive in different operation years"
      ],
      "metadata": {
        "id": "nSbADLTJasVL"
      }
    },
    {
      "cell_type": "code",
      "source": [
        "sns.countplot(x='operation_year',hue='survival_status',data=dataset,palette='mako')"
      ],
      "metadata": {
        "colab": {
          "base_uri": "https://localhost:8080/",
          "height": 300
        },
        "id": "duvdnmDizbMD",
        "outputId": "ed5bfc40-f201-41c3-a6e4-0e9410b3fdb1"
      },
      "execution_count": 129,
      "outputs": [
        {
          "output_type": "execute_result",
          "data": {
            "text/plain": [
              "<matplotlib.axes._subplots.AxesSubplot at 0x7f3beb9af290>"
            ]
          },
          "metadata": {},
          "execution_count": 129
        },
        {
          "output_type": "display_data",
          "data": {
            "text/plain": [
              "<Figure size 432x288 with 1 Axes>"
            ],
            "image/png": "[encoded data removed]"
          },
          "metadata": {
            "needs_background": "light"
          }
        }
      ]
    },
    {
      "cell_type": "code",
      "source": [
        "df_survived=dataset[dataset['survival_status']==2] #splitting into survived or not survived\n",
        "df_not_survived=dataset[dataset['survival_status']==1]"
      ],
      "metadata": {
        "id": "ytQy8XycCSoI"
      },
      "execution_count": 130,
      "outputs": []
    },
    {
      "cell_type": "code",
      "source": [
        "grp=df_survived.groupby(['patient_age','positive_auxillary_nodes']).size().reset_index(name=\"Count\").sort_values(\"Count\", ascending = False)"
      ],
      "metadata": {
        "id": "ndVSA9430qK9"
      },
      "execution_count": 131,
      "outputs": []
    },
    {
      "cell_type": "code",
      "source": [
        "print(grp)"
      ],
      "metadata": {
        "colab": {
          "base_uri": "https://localhost:8080/"
        },
        "id": "LgGHFKZG1hdw",
        "outputId": "b3512f2c-f4f7-4b66-e38e-15e5caff9a1b"
      },
      "execution_count": 132,
      "outputs": [
        {
          "output_type": "stream",
          "name": "stdout",
          "text": [
            "    patient_age  positive_auxillary_nodes  Count\n",
            "32           52                         3      2\n",
            "24           48                        11      2\n",
            "4            41                         0      2\n",
            "8            43                         0      2\n",
            "21           47                         0      2\n",
            "..          ...                       ...    ...\n",
            "27           50                         0      1\n",
            "26           49                        10      1\n",
            "25           49                         0      1\n",
            "23           48                         7      1\n",
            "75           83                         2      1\n",
            "\n",
            "[76 rows x 3 columns]\n"
          ]
        }
      ]
    },
    {
      "cell_type": "code",
      "source": [
        "grp2=df_not_survived.groupby(['patient_age','positive_auxillary_nodes']).size().reset_index(name=\"Count\").sort_values(\"Count\", ascending = False)\n",
        "print(grp2)"
      ],
      "metadata": {
        "colab": {
          "base_uri": "https://localhost:8080/"
        },
        "id": "4m6n034TCyjN",
        "outputId": "b10f9003-ca0d-4ff6-eeee-4bc0ad4b1e16"
      },
      "execution_count": 133,
      "outputs": [
        {
          "output_type": "stream",
          "name": "stdout",
          "text": [
            "     patient_age  positive_auxillary_nodes  Count\n",
            "89            57                         0      7\n",
            "68            52                         0      6\n",
            "104           61                         0      5\n",
            "108           63                         0      5\n",
            "29            41                         0      5\n",
            "..           ...                       ...    ...\n",
            "45            45                         1      1\n",
            "43            44                        16      1\n",
            "42            44                         1      1\n",
            "40            43                        14      1\n",
            "131           77                         3      1\n",
            "\n",
            "[132 rows x 3 columns]\n"
          ]
        }
      ]
    },
    {
      "cell_type": "code",
      "source": [
        "l1=dataset['operation_year'].unique()\n",
        "l1.sort()\n",
        "l2=[]\n",
        "l3=[]\n",
        "l4=[]\n",
        "for i in l1:\n",
        "  count=0\n",
        "  count1=0\n",
        "  for j in range(len(dataset['operation_year'])):\n",
        "    if(i==dataset['operation_year'][j] and dataset['survival_status'][j]==2):\n",
        "      count=count+1\n",
        "      count1=count1+1\n",
        "    elif(i==dataset['operation_year'][j]):\n",
        "      count1=count1+1\n",
        "  l2.append(count)\n",
        "  l4.append(count1)\n",
        "for i in range(len(l1)):\n",
        "  l3.append(l2[i]/l4[i])"
      ],
      "metadata": {
        "id": "1RAXV9hEn5-K"
      },
      "execution_count": 134,
      "outputs": []
    },
    {
      "cell_type": "markdown",
      "source": [
        "This graph tells us the survival ratios in different operation years"
      ],
      "metadata": {
        "id": "khL2qTQjoRmY"
      }
    },
    {
      "cell_type": "code",
      "source": [
        "plt.figure(figsize=(15,15))\n",
        "sns.barplot(x=l1,y=l3,palette='mako')\n",
        "plt.xlabel('operation year')\n",
        "plt.ylabel('survived ratio')"
      ],
      "metadata": {
        "colab": {
          "base_uri": "https://localhost:8080/",
          "height": 894
        },
        "id": "4WgUfzH4IjEF",
        "outputId": "053cbf89-e683-4d41-9f2b-7d72a03fe487"
      },
      "execution_count": 135,
      "outputs": [
        {
          "output_type": "execute_result",
          "data": {
            "text/plain": [
              "Text(0, 0.5, 'survived ratio')"
            ]
          },
          "metadata": {},
          "execution_count": 135
        },
        {
          "output_type": "display_data",
          "data": {
            "text/plain": [
              "<Figure size 1080x1080 with 1 Axes>"
            ],
            "image/png": "[encoded data removed]"
          },
          "metadata": {
            "needs_background": "light"
          }
        }
      ]
    },
    {
      "cell_type": "code",
      "source": [
        "l1=dataset['patient_age'].unique()\n",
        "l1.sort()\n",
        "l2=[]\n",
        "l3=[]\n",
        "l4=[]\n",
        "for i in l1:\n",
        "  count=0\n",
        "  count1=0\n",
        "  for j in range(len(dataset['patient_age'])):\n",
        "    if(i==dataset['patient_age'][j] and dataset['survival_status'][j]==2):\n",
        "      count=count+1\n",
        "      count1=count1+1\n",
        "    elif(i==dataset['patient_age'][j]):\n",
        "      count1=count1+1\n",
        "  l2.append(count)\n",
        "  l4.append(count1)\n",
        "for i in range(len(l1)):\n",
        "  l3.append(l2[i]/l4[i])\n"
      ],
      "metadata": {
        "id": "8L42TOg9LE4c"
      },
      "execution_count": 136,
      "outputs": []
    },
    {
      "cell_type": "markdown",
      "source": [
        "This graph shows us the ratio of patients who survived in each age group"
      ],
      "metadata": {
        "id": "7Txar5iAtYTS"
      }
    },
    {
      "cell_type": "code",
      "source": [
        "plt.figure(figsize=(25,15))\n",
        "sns.barplot(x=l1,y=l3,palette='mako')\n",
        "plt.xlabel('patient age')\n",
        "plt.ylabel('survived ratio')"
      ],
      "metadata": {
        "colab": {
          "base_uri": "https://localhost:8080/",
          "height": 894
        },
        "id": "DIMNElgTMtoq",
        "outputId": "dc64fc1e-9445-40e5-8b5b-5119f502b430"
      },
      "execution_count": 137,
      "outputs": [
        {
          "output_type": "execute_result",
          "data": {
            "text/plain": [
              "Text(0, 0.5, 'survived ratio')"
            ]
          },
          "metadata": {},
          "execution_count": 137
        },
        {
          "output_type": "display_data",
          "data": {
            "text/plain": [
              "<Figure size 1800x1080 with 1 Axes>"
            ],
            "image/png": "[encoded data removed]"
          },
          "metadata": {
            "needs_background": "light"
          }
        }
      ]
    }
  ]
}